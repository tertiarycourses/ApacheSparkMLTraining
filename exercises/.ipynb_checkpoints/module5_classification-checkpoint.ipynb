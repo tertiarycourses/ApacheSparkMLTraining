{
 "cells": [
  {
   "cell_type": "markdown",
   "metadata": {},
   "source": [
    "# Module 4 Regression"
   ]
  },
  {
   "cell_type": "markdown",
   "metadata": {},
   "source": [
    "## Simple Regession Demo"
   ]
  },
  {
   "cell_type": "code",
   "execution_count": null,
   "metadata": {
    "collapsed": true
   },
   "outputs": [],
   "source": [
    "# Step 1: Preprocess Data\n",
    "\n",
    "from pyspark.mllib.regression import LabeledPoint\n",
    "\n",
    "data = [\n",
    "LabeledPoint(0.0, [0.0]),\n",
    "LabeledPoint(1.0, [1.0]),\n",
    "LabeledPoint(2.0, [2.0]),\n",
    "LabeledPoint(3.0, [3.0])\n",
    "]"
   ]
  },
  {
   "cell_type": "code",
   "execution_count": null,
   "metadata": {
    "collapsed": true
   },
   "outputs": [],
   "source": [
    "# Step 2: Define Model\n",
    "\n",
    "from pyspark.mllib.regression import LinearRegressionWithSGD"
   ]
  },
  {
   "cell_type": "code",
   "execution_count": null,
   "metadata": {
    "collapsed": true
   },
   "outputs": [],
   "source": [
    "# Step 3: Train Model\n",
    "\n",
    "lm = LinearRegressionWithSGD.train(sc.parallelize(data), iterations=10)"
   ]
  },
  {
   "cell_type": "code",
   "execution_count": null,
   "metadata": {
    "collapsed": true
   },
   "outputs": [],
   "source": [
    "# Step 4: Use Model to Predict\n",
    "\n",
    "lm.predict([1.0])"
   ]
  },
  {
   "cell_type": "code",
   "execution_count": null,
   "metadata": {},
   "outputs": [],
   "source": [
    "# Save 5: Save Model\n",
    "lm.save(sc, \"test\")"
   ]
  },
  {
   "cell_type": "code",
   "execution_count": null,
   "metadata": {
    "collapsed": true
   },
   "outputs": [],
   "source": [
    "# Load the Model\n",
    "\n",
    "from pyspark.mllib.regression import LinearRegressionModel\n",
    "lm2 = LinearRegressionModel.load(sc, \"test2\")\n",
    "\n",
    "lm2.predict([1.0])"
   ]
  },
  {
   "cell_type": "markdown",
   "metadata": {},
   "source": [
    "## Challenge: Regression"
   ]
  },
  {
   "cell_type": "code",
   "execution_count": null,
   "metadata": {
    "collapsed": true
   },
   "outputs": [],
   "source": []
  }
 ],
 "metadata": {
  "kernelspec": {
   "display_name": "Python 3",
   "language": "python",
   "name": "python3"
  },
  "language_info": {
   "codemirror_mode": {
    "name": "ipython",
    "version": 3
   },
   "file_extension": ".py",
   "mimetype": "text/x-python",
   "name": "python",
   "nbconvert_exporter": "python",
   "pygments_lexer": "ipython3",
   "version": "3.6.2"
  },
  "name": "module5_1_linear_regression.py",
  "notebookId": 2315165693438068
 },
 "nbformat": 4,
 "nbformat_minor": 1
}
