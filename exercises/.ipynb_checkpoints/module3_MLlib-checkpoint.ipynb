{
 "cells": [
  {
   "cell_type": "code",
   "execution_count": null,
   "metadata": {
    "collapsed": true
   },
   "outputs": [],
   "source": [
    "from pyspark.mllib.stat import Statistics \n",
    "from math import sqrt \n",
    "\n",
    "a = [i*i for i in range(10)]\n",
    "b = sc.parallelize(a)\n",
    "\n",
    "\n",
    "print(\"Max: \",b.max())\n",
    "print(\"Min: \",b.min())\n",
    "print(\"Count: \",b.count())\n",
    "print(\"Mean: \",b.mean())\n",
    "print(\"Variane: \",b.variance())"
   ]
  }
 ],
 "metadata": {
  "kernelspec": {
   "display_name": "Python 3",
   "language": "python",
   "name": "python3"
  },
  "language_info": {
   "codemirror_mode": {
    "name": "ipython",
    "version": 3
   },
   "file_extension": ".py",
   "mimetype": "text/x-python",
   "name": "python",
   "nbconvert_exporter": "python",
   "pygments_lexer": "ipython3",
   "version": "3.6.2"
  }
 },
 "nbformat": 4,
 "nbformat_minor": 2
}
